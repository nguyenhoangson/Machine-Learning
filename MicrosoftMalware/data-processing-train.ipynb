{
 "cells": [
  {
   "cell_type": "code",
   "execution_count": 1,
   "metadata": {
    "collapsed": true
   },
   "outputs": [],
   "source": [
    "### Loading data from S3\n",
    "import urllib\n",
    "\n",
    "ACCESS_KEY = '",
    "SECRET_KEY = '",
    "ENCODED_SECRET_KEY = urllib.quote(SECRET_KEY, '')\n",
    "AWS_BUCKET_NAME = 'train-raw.microsoft'\n",
    "MOUNT_NAME = 'train-raw'\n",
    "\n",
    "dbutils.fs.mount(\"s3n://%s:%s@%s\" % (ACCESS_KEY, ENCODED_SECRET_KEY, AWS_BUCKET_NAME), \"/mnt/%s\" % MOUNT_NAME)\n",
    "# Load all the files from S3 into files RDD\n",
    "\n",
    "# Persist files RDDs "
   ]
  },
  {
   "cell_type": "code",
   "execution_count": 2,
   "metadata": {
    "collapsed": true
   },
   "outputs": [],
   "source": [
    "# This takes funckin a lot of time. \n",
    "file_infos = dbutils.fs.ls(\"/mnt/train-raw\")\n"
   ]
  },
  {
   "cell_type": "code",
   "execution_count": 3,
   "metadata": {
    "collapsed": true
   },
   "outputs": [],
   "source": [
    "### Refine the file_list to get only the malware id\n",
    "def map_file_id(x):\n",
    "  return str(x[1])\n",
    "\n",
    "file_list = map(map_file_id, file_infos)\n"
   ]
  },
  {
   "cell_type": "code",
   "execution_count": 4,
   "metadata": {
    "collapsed": true
   },
   "outputs": [],
   "source": [
    "# Map this into pair RDDs: key/value -> file_name/content\n",
    "file_ids = sc.parallelize(file_list)\n",
    "\n",
    "#test_ids = sc.parallelize(['01azqd4InC7m9JpocGv5.asm', '01azqd4InC7m9JpocGv5.bytes', '0A32eTdBKayjCWhZqDOQ.asm', '0A32eTdBKayjCWhZqDOQ.bytes'])\n",
    "\n",
    "# Anonymous functions\n",
    "def get_number_lines(file):\n",
    "    \n",
    "    file_type = ''\n",
    "    num_lines = count_new_line_character(file[1])\n",
    "    \n",
    "    if (re.search('.asm', file[0]) is not None):\n",
    "        file_type = '.asm: '\n",
    "    elif(re.search('.bytes', file[0]) is not None):\n",
    "        file_type = '.bytes'\n",
    "    \n",
    "    return (get_fileID_from_file_path(file[0]), {file_type: num_lines})\n",
    "  \n",
    "def get_content(file_name):\n",
    "    return (file_name, get_file_content_as_string(file_name))\n",
    "\n",
    "\n",
    "pair_RDD = file_ids.map(get_content)\n",
    "pair_RDD = pair_RDD.map(get_number_lines)\n",
    "\n",
    "result = pair_RDD.collect()\n",
    "\n",
    "# pair_RDD.persist() # Persist data to local storage to speed up access\n"
   ]
  },
  {
   "cell_type": "code",
   "execution_count": 5,
   "metadata": {
    "collapsed": true
   },
   "outputs": [],
   "source": [
    "list_result = ''.join(re.sub('[(|)]', '', str(e)) + '\\n' for e in result)\n",
    "\n",
    "upload_content_as_string_to_s3(list_result, 'train_processed.csv')"
   ]
  },
  {
   "cell_type": "code",
   "execution_count": 6,
   "metadata": {
    "collapsed": true
   },
   "outputs": [],
   "source": [
    "# Functions that support some common tasks\n",
    "import re \n",
    "import boto\n",
    "from boto.s3.connection import OrdinaryCallingFormat\n",
    "from boto.s3.key import Key\n",
    "\n",
    "# Utility functions\n",
    "def get_fileID_from_file_path(path):\n",
    "    '''Get input as path of .asm or .bytes files and\n",
    "    \n",
    "       Return the id\n",
    "\n",
    "       E.g: get_fileID_from_file_path('home/livetolove128/01azqd4InC7m9JpocGv5.asm'): '01azqd4InC7m9JpocGv5'\n",
    "    '''\n",
    "    temp_str = re.search('.{20}\\.(asm|bytes)', path).group(0)\n",
    "    str_id = re.search('.{20}', temp_str).group(0)\n",
    "    return str_id\n",
    "\n",
    "def count_new_line_character(string):\n",
    "    '''Get input as a string and\n",
    "       \n",
    "       Return the number of new line characters\n",
    "       \n",
    "       E.g: count_new_line_character('nguyen \\n heelllo \\n'): 2\n",
    "    '''\n",
    "    return len(re.findall('\\\\n', string))\n",
    "  \n",
    "def get_file_content_as_string(file_name):\n",
    "  # Establish connection with s3\n",
    "  s3 = boto.s3.connect_to_region(\n",
    "  region_name = 'us-west-1',\n",
    "  aws_access_key_id = ACCESS_KEY,\n",
    "  aws_secret_access_key = SECRET_KEY,\n",
    "  calling_format = OrdinaryCallingFormat())\n",
    "  train_raw = s3.get_bucket('train-raw.microsoft', validate=False)\n",
    "  content = Key(train_raw, file_name).get_contents_as_string()\n",
    "  return content\n",
    "\n",
    "def upload_content_as_string_to_s3(content_str, filename):\n",
    "   # Establish connection with s3\n",
    "  s3 = boto.s3.connect_to_region(\n",
    "  region_name = 'us-west-1',\n",
    "  aws_access_key_id = ACCESS_KEY,\n",
    "  aws_secret_access_key = SECRET_KEY,\n",
    "  calling_format = OrdinaryCallingFormat())\n",
    "  train_processed = s3.get_bucket('train-processed.microsoft', validate=False)\n",
    "  k = Key(train_processed)\n",
    "  k.key = filename\n",
    "  k.set_contents_from_string(content_str)\n",
    "  return content_str\n",
    "\n"
   ]
  },
  {
   "cell_type": "code",
   "execution_count": 7,
   "metadata": {
    "collapsed": true
   },
   "outputs": [],
   "source": [
    "# Real data processing will happen here\n"
   ]
  }
 ],
 "metadata": {
  "kernelspec": {
   "display_name": "Python 3",
   "language": "python",
   "name": "python3"
  },
  "language_info": {
   "codemirror_mode": {
    "name": "ipython",
    "version": 3
   },
   "file_extension": ".py",
   "mimetype": "text/x-python",
   "name": "python",
   "nbconvert_exporter": "python",
   "pygments_lexer": "ipython3",
   "version": "3.5.1"
  },
  "name": "Microsoft",
  "notebookId": 4307
 },
 "nbformat": 4,
 "nbformat_minor": 0
}
