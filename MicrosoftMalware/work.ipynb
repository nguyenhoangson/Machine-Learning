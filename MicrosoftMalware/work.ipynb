{
 "cells": [
  {
   "cell_type": "markdown",
   "metadata": {},
   "source": [
    "# Microsoft Kaggle Classification Challenge\n",
    "\n",
    "[Link](https://www.kaggle.com/c/malware-classification)"
   ]
  },
  {
   "cell_type": "markdown",
   "metadata": {},
   "source": [
    "## 1. Read and Examine Data Characteristics\n"
   ]
  },
  {
   "cell_type": "code",
   "execution_count": 2,
   "metadata": {
    "collapsed": false
   },
   "outputs": [],
   "source": [
    "### Using pandas as Python Data Analysis Tools\n",
    "import pandas as pd\n",
    "\n",
    "submission_sample = pd.read_csv(\"./sampleSubmission/sampleSubmission.csv\")\n",
    "\n",
    "train_labels = pd.read_csv(\"./trainLabels/trainLabels.csv\")\n"
   ]
  },
  {
   "cell_type": "code",
   "execution_count": 2,
   "metadata": {
    "collapsed": false
   },
   "outputs": [
    {
     "data": {
      "text/plain": [
       "(10873, 10)"
      ]
     },
     "execution_count": 2,
     "metadata": {},
     "output_type": "execute_result"
    }
   ],
   "source": [
    "submission_sample.shape"
   ]
  },
  {
   "cell_type": "code",
   "execution_count": 3,
   "metadata": {
    "collapsed": false,
    "scrolled": false
   },
   "outputs": [
    {
     "data": {
      "text/html": [
       "<div>\n",
       "<table border=\"1\" class=\"dataframe\">\n",
       "  <thead>\n",
       "    <tr style=\"text-align: right;\">\n",
       "      <th></th>\n",
       "      <th>Id</th>\n",
       "      <th>Prediction1</th>\n",
       "      <th>Prediction2</th>\n",
       "      <th>Prediction3</th>\n",
       "      <th>Prediction4</th>\n",
       "      <th>Prediction5</th>\n",
       "      <th>Prediction6</th>\n",
       "      <th>Prediction7</th>\n",
       "      <th>Prediction8</th>\n",
       "      <th>Prediction9</th>\n",
       "    </tr>\n",
       "  </thead>\n",
       "  <tbody>\n",
       "    <tr>\n",
       "      <th>0</th>\n",
       "      <td>RYzecbHASsni7N51DrgB</td>\n",
       "      <td>0.111111</td>\n",
       "      <td>0.111111</td>\n",
       "      <td>0.111111</td>\n",
       "      <td>0.111111</td>\n",
       "      <td>0.111111</td>\n",
       "      <td>0.111111</td>\n",
       "      <td>0.111111</td>\n",
       "      <td>0.111111</td>\n",
       "      <td>0.111111</td>\n",
       "    </tr>\n",
       "    <tr>\n",
       "      <th>1</th>\n",
       "      <td>y0iSXI1lwemrq39buQds</td>\n",
       "      <td>0.111111</td>\n",
       "      <td>0.111111</td>\n",
       "      <td>0.111111</td>\n",
       "      <td>0.111111</td>\n",
       "      <td>0.111111</td>\n",
       "      <td>0.111111</td>\n",
       "      <td>0.111111</td>\n",
       "      <td>0.111111</td>\n",
       "      <td>0.111111</td>\n",
       "    </tr>\n",
       "    <tr>\n",
       "      <th>2</th>\n",
       "      <td>OCsctgA5MWGXHP1vo0qx</td>\n",
       "      <td>0.111111</td>\n",
       "      <td>0.111111</td>\n",
       "      <td>0.111111</td>\n",
       "      <td>0.111111</td>\n",
       "      <td>0.111111</td>\n",
       "      <td>0.111111</td>\n",
       "      <td>0.111111</td>\n",
       "      <td>0.111111</td>\n",
       "      <td>0.111111</td>\n",
       "    </tr>\n",
       "    <tr>\n",
       "      <th>3</th>\n",
       "      <td>kGW27noyvwBUJXeMQzgI</td>\n",
       "      <td>0.111111</td>\n",
       "      <td>0.111111</td>\n",
       "      <td>0.111111</td>\n",
       "      <td>0.111111</td>\n",
       "      <td>0.111111</td>\n",
       "      <td>0.111111</td>\n",
       "      <td>0.111111</td>\n",
       "      <td>0.111111</td>\n",
       "      <td>0.111111</td>\n",
       "    </tr>\n",
       "    <tr>\n",
       "      <th>4</th>\n",
       "      <td>rHiws5yCIjSvcz1M0U8Q</td>\n",
       "      <td>0.111111</td>\n",
       "      <td>0.111111</td>\n",
       "      <td>0.111111</td>\n",
       "      <td>0.111111</td>\n",
       "      <td>0.111111</td>\n",
       "      <td>0.111111</td>\n",
       "      <td>0.111111</td>\n",
       "      <td>0.111111</td>\n",
       "      <td>0.111111</td>\n",
       "    </tr>\n",
       "  </tbody>\n",
       "</table>\n",
       "</div>"
      ],
      "text/plain": [
       "                     Id  Prediction1  Prediction2  Prediction3  Prediction4  \\\n",
       "0  RYzecbHASsni7N51DrgB     0.111111     0.111111     0.111111     0.111111   \n",
       "1  y0iSXI1lwemrq39buQds     0.111111     0.111111     0.111111     0.111111   \n",
       "2  OCsctgA5MWGXHP1vo0qx     0.111111     0.111111     0.111111     0.111111   \n",
       "3  kGW27noyvwBUJXeMQzgI     0.111111     0.111111     0.111111     0.111111   \n",
       "4  rHiws5yCIjSvcz1M0U8Q     0.111111     0.111111     0.111111     0.111111   \n",
       "\n",
       "   Prediction5  Prediction6  Prediction7  Prediction8  Prediction9  \n",
       "0     0.111111     0.111111     0.111111     0.111111     0.111111  \n",
       "1     0.111111     0.111111     0.111111     0.111111     0.111111  \n",
       "2     0.111111     0.111111     0.111111     0.111111     0.111111  \n",
       "3     0.111111     0.111111     0.111111     0.111111     0.111111  \n",
       "4     0.111111     0.111111     0.111111     0.111111     0.111111  "
      ]
     },
     "execution_count": 3,
     "metadata": {},
     "output_type": "execute_result"
    }
   ],
   "source": [
    "submission_sample.head()"
   ]
  },
  {
   "cell_type": "code",
   "execution_count": 4,
   "metadata": {
    "collapsed": false
   },
   "outputs": [
    {
     "data": {
      "text/plain": [
       "(10868, 2)"
      ]
     },
     "execution_count": 4,
     "metadata": {},
     "output_type": "execute_result"
    }
   ],
   "source": [
    "train_labels.shape"
   ]
  },
  {
   "cell_type": "code",
   "execution_count": 5,
   "metadata": {
    "collapsed": false
   },
   "outputs": [
    {
     "data": {
      "text/html": [
       "<div>\n",
       "<table border=\"1\" class=\"dataframe\">\n",
       "  <thead>\n",
       "    <tr style=\"text-align: right;\">\n",
       "      <th></th>\n",
       "      <th>Id</th>\n",
       "      <th>Class</th>\n",
       "    </tr>\n",
       "  </thead>\n",
       "  <tbody>\n",
       "    <tr>\n",
       "      <th>0</th>\n",
       "      <td>01kcPWA9K2BOxQeS5Rju</td>\n",
       "      <td>1</td>\n",
       "    </tr>\n",
       "    <tr>\n",
       "      <th>1</th>\n",
       "      <td>04EjIdbPV5e1XroFOpiN</td>\n",
       "      <td>1</td>\n",
       "    </tr>\n",
       "    <tr>\n",
       "      <th>2</th>\n",
       "      <td>05EeG39MTRrI6VY21DPd</td>\n",
       "      <td>1</td>\n",
       "    </tr>\n",
       "    <tr>\n",
       "      <th>3</th>\n",
       "      <td>05rJTUWYAKNegBk2wE8X</td>\n",
       "      <td>1</td>\n",
       "    </tr>\n",
       "    <tr>\n",
       "      <th>4</th>\n",
       "      <td>0AnoOZDNbPXIr2MRBSCJ</td>\n",
       "      <td>1</td>\n",
       "    </tr>\n",
       "    <tr>\n",
       "      <th>5</th>\n",
       "      <td>0AwWs42SUQ19mI7eDcTC</td>\n",
       "      <td>1</td>\n",
       "    </tr>\n",
       "    <tr>\n",
       "      <th>6</th>\n",
       "      <td>0cH8YeO15ZywEhPrJvmj</td>\n",
       "      <td>1</td>\n",
       "    </tr>\n",
       "    <tr>\n",
       "      <th>7</th>\n",
       "      <td>0DNVFKwYlcjO7bTfJ5p1</td>\n",
       "      <td>1</td>\n",
       "    </tr>\n",
       "    <tr>\n",
       "      <th>8</th>\n",
       "      <td>0DqUX5rkg3IbMY6BLGCE</td>\n",
       "      <td>1</td>\n",
       "    </tr>\n",
       "    <tr>\n",
       "      <th>9</th>\n",
       "      <td>0eaNKwluUmkYdIvZ923c</td>\n",
       "      <td>1</td>\n",
       "    </tr>\n",
       "  </tbody>\n",
       "</table>\n",
       "</div>"
      ],
      "text/plain": [
       "                     Id  Class\n",
       "0  01kcPWA9K2BOxQeS5Rju      1\n",
       "1  04EjIdbPV5e1XroFOpiN      1\n",
       "2  05EeG39MTRrI6VY21DPd      1\n",
       "3  05rJTUWYAKNegBk2wE8X      1\n",
       "4  0AnoOZDNbPXIr2MRBSCJ      1\n",
       "5  0AwWs42SUQ19mI7eDcTC      1\n",
       "6  0cH8YeO15ZywEhPrJvmj      1\n",
       "7  0DNVFKwYlcjO7bTfJ5p1      1\n",
       "8  0DqUX5rkg3IbMY6BLGCE      1\n",
       "9  0eaNKwluUmkYdIvZ923c      1"
      ]
     },
     "execution_count": 5,
     "metadata": {},
     "output_type": "execute_result"
    }
   ],
   "source": [
    "train_labels.head(10)"
   ]
  },
  {
   "cell_type": "markdown",
   "metadata": {},
   "source": [
    "## 2. Feature Engineering"
   ]
  },
  {
   "cell_type": "code",
   "execution_count": null,
   "metadata": {
    "collapsed": false
   },
   "outputs": [],
   "source": []
  },
  {
   "cell_type": "markdown",
   "metadata": {},
   "source": [
    "## 3. Mock data "
   ]
  },
  {
   "cell_type": "code",
   "execution_count": 32,
   "metadata": {
    "collapsed": false
   },
   "outputs": [],
   "source": [
    "# Using mock data to test xgboost library\n",
    "import xgboost as xgb\n",
    "import numpy as np\n",
    "import pandas as pd\n",
    "\n",
    "# Set up mock data to test xgboost\n",
    "mock_data = pd.read_csv('http://archive.ics.uci.edu/ml/machine-learning-databases/wine/wine.data', header=None)\n",
    "\n",
    "label = mock_data[0]\n",
    "\n",
    "# Convert DataFrame to equivalent Numpy-array representation\n",
    "data = mock_data.drop(0, 1).as_matrix()\n",
    "\n",
    "# Get the data in shape of DMatrix data structure to fit xgboost \n",
    "dtrain = xgb.DMatrix(data, label=label)\n",
    "\n",
    "# Set up hyper parameters\n",
    "params = {'max_depth':2, 'eta':1.0, 'silent':1, 'colsample_bytree': 1, 'objective':'multi:softprob',\n",
    "          'min_child_weight': 2, 'num_class': 4}\n",
    " \n",
    "num_round = 10\n",
    "\n",
    "# Train the model\n",
    "bst = xgb.train(params, dtrain, num_round)\n",
    "\n",
    "# Make the predictions \n",
    "predictions = bst.predict(dtrain)\n",
    "\n",
    "# Transfomr the result\n",
    "##pd.DataFrame(data=predictions)\n",
    "\n"
   ]
  },
  {
   "cell_type": "markdown",
   "metadata": {},
   "source": [
    "## 4. Model Evaluation - Using Multi Class Log Loss Metrics\n",
    "[Link](https://www.kaggle.com/c/malware-classification/details/evaluation)"
   ]
  },
  {
   "cell_type": "code",
   "execution_count": 68,
   "metadata": {
    "collapsed": false
   },
   "outputs": [],
   "source": [
    "import numpy as np\n",
    "\n",
    "### Refer to file test_multi_class_loss.py with pytest 2.8.5 to run tests\n",
    "\n",
    "# Make multi class log loss function\n",
    "def multi_class_log_loss(actuals, predictions):\n",
    "    \"\"\" Implementation of multiclass log loss: \n",
    "    https://www.kaggle.com/wiki/MultiClassLogLoss.\n",
    "    \n",
    "    Parameters\n",
    "    -------------\n",
    "    ** actuals = numpy_array, shape = [n_samples, 1], \n",
    "              each_row_contains_true_class: integer from [0, n_classes - 1]\n",
    "    \n",
    "    ** predictions = numpy_array, shape = [n_samples, n_classes],\n",
    "                     each_row_contains_predicted_probablities: float in [0,1] and sum approximately to 1\n",
    "    \n",
    "    Return Type\n",
    "    -------------\n",
    "    ** loss = float\n",
    "    \"\"\"\n",
    "    \n",
    "    n_samples = actuals.shape[0]\n",
    "\n",
    "    # Auxiliary matrix for computational convenience purpose\n",
    "    auxiliary = np.zeros(predictions.shape)\n",
    "    auxiliary[np.arange(n_samples), actuals.astype(int)] = 1\n",
    "    \n",
    "    # Sum log\n",
    "    sum_log = np.sum(auxiliary*np.log(predictions))\n",
    "    \n",
    "    loss = (-1.0)/(n_samples)*sum_log\n",
    "    return loss\n",
    "\n"
   ]
  },
  {
   "cell_type": "code",
   "execution_count": null,
   "metadata": {
    "collapsed": false
   },
   "outputs": [],
   "source": []
  },
  {
   "cell_type": "code",
   "execution_count": 14,
   "metadata": {
    "collapsed": true
   },
   "outputs": [],
   "source": [
    "# Using Cross Validation\n",
    "from sklearn.cross_validation import cross_val_score\n",
    "\n",
    "# Initialize algorithm\n",
    "\n",
    "# Evaluate using log loss function for multi-class classification\n",
    "\n"
   ]
  },
  {
   "cell_type": "markdown",
   "metadata": {},
   "source": [
    "## 5. Final Submission"
   ]
  },
  {
   "cell_type": "code",
   "execution_count": 17,
   "metadata": {
    "collapsed": true
   },
   "outputs": [],
   "source": [
    "# import xgboost\n",
    "import xgboost as xgb\n",
    "\n",
    "# Train the model into training data\n",
    "\n",
    "# Predict the test set\n",
    "\n",
    "# Transform the result into expected form\n",
    "\n",
    "# Get submitted csv file"
   ]
  }
 ],
 "metadata": {
  "kernelspec": {
   "display_name": "Python 3",
   "language": "python",
   "name": "python3"
  },
  "language_info": {
   "codemirror_mode": {
    "name": "ipython",
    "version": 3
   },
   "file_extension": ".py",
   "mimetype": "text/x-python",
   "name": "python",
   "nbconvert_exporter": "python",
   "pygments_lexer": "ipython3",
   "version": "3.5.1"
  }
 },
 "nbformat": 4,
 "nbformat_minor": 0
}
